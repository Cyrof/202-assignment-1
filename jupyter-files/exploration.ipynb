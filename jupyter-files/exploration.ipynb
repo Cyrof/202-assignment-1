{
 "cells": [
  {
   "cell_type": "markdown",
   "metadata": {},
   "source": [
    "# Data Exploration \n",
    "Data exploration involves summarising the dataset's main characteristics and visualising its distribution and relationships. This step helps identify patterns, trends, and potential issues such as missing values, setting foundation for subsequent analysis and modelling."
   ]
  },
  {
   "cell_type": "markdown",
   "metadata": {},
   "source": [
    "## Importing Libraries\n",
    "Essential libraries such as `pandas`, `os`, and visualisation libraries like `matplotlib` are imported. These libraries provide the necessary functions to handle and visualise the data."
   ]
  },
  {
   "cell_type": "code",
   "execution_count": null,
   "metadata": {},
   "outputs": [],
   "source": [
    "import pandas as pd\n",
    "import matplotlib.pyplot as plt\n",
    "import seaborn as sns\n",
    "from sklearn.preprocessing import LabelEncoder\n",
    "import os"
   ]
  },
  {
   "cell_type": "markdown",
   "metadata": {},
   "source": [
    "## Loading the Dataset\n",
    "The dataset is loaded from a CSV file from the `datasets` folder into a `pandas` `DataFrame`."
   ]
  },
  {
   "cell_type": "code",
   "execution_count": null,
   "metadata": {},
   "outputs": [],
   "source": [
    "csv_path = f\"{os.path.abspath(os.path.join(os.getcwd(), os.pardir))}/datasets/obesityData.csv\"\n",
    "\n",
    "ob_df = pd.read_csv(csv_path) # ob_df --> obesity dataframe"
   ]
  },
  {
   "cell_type": "markdown",
   "metadata": {},
   "source": [
    "## Exploring the Dataset\n",
    "Initial exploration involves checking the shape of the dataset, viewing the first few rows, and summarising basic statistics. This helps us understand the structure and basic characteristics of the data."
   ]
  },
  {
   "cell_type": "code",
   "execution_count": null,
   "metadata": {},
   "outputs": [],
   "source": [
    "# view the first few rows\n",
    "ob_df.head()"
   ]
  },
  {
   "cell_type": "code",
   "execution_count": null,
   "metadata": {},
   "outputs": [],
   "source": [
    "# Check the shape of the dataset\n",
    "print(f\"The dataset contains {ob_df.shape[0]} rows and {ob_df.shape[1]} columns.\")"
   ]
  },
  {
   "cell_type": "code",
   "execution_count": null,
   "metadata": {},
   "outputs": [],
   "source": [
    "# Generate descriptive statistics for the data\n",
    "ob_df.describe()"
   ]
  },
  {
   "cell_type": "code",
   "execution_count": null,
   "metadata": {},
   "outputs": [],
   "source": [
    "# Check for missing values\n",
    "ob_df.isnull().sum()"
   ]
  },
  {
   "cell_type": "code",
   "execution_count": null,
   "metadata": {},
   "outputs": [],
   "source": [
    "# check data types\n",
    "ob_df.dtypes"
   ]
  },
  {
   "cell_type": "code",
   "execution_count": null,
   "metadata": {},
   "outputs": [],
   "source": [
    "# check duplicates \n",
    "ob_df[ob_df.duplicated()]"
   ]
  },
  {
   "cell_type": "markdown",
   "metadata": {},
   "source": [
    "## Data Visualisation "
   ]
  },
  {
   "cell_type": "markdown",
   "metadata": {},
   "source": [
    "### 1. **Distribution of Ages**"
   ]
  },
  {
   "cell_type": "code",
   "execution_count": null,
   "metadata": {},
   "outputs": [],
   "source": [
    "plt.figure(figsize=(10, 6))\n",
    "sns.histplot(ob_df['Age'], bins=30, kde=True)\n",
    "plt.title('Age Distribution')\n",
    "plt.xlabel('Age')\n",
    "plt.ylabel('Frequency')\n",
    "plt.show()"
   ]
  },
  {
   "cell_type": "markdown",
   "metadata": {},
   "source": [
    "###  2. **Distribution of BMI (Body Mass Index)**\n",
    "BMI is calculated as the weight in kilograms divided by the square of the height in meters ($\\text{BMI} = \\frac{\\text{Weight}}{\\text{Height}^2}$)."
   ]
  },
  {
   "cell_type": "code",
   "execution_count": null,
   "metadata": {},
   "outputs": [],
   "source": [
    "ob_df['BMI'] = ob_df['Weight'] / (ob_df['Height'])**2\n",
    "\n",
    "plt.figure(figsize=(10,6))\n",
    "sns.histplot(ob_df['BMI'], bins=30, kde=True)\n",
    "plt.title('BMI Distribution')\n",
    "plt.xlabel('BMI')\n",
    "plt.ylabel('Frequency')\n",
    "plt.show()"
   ]
  },
  {
   "cell_type": "markdown",
   "metadata": {},
   "source": [
    "### 3. **Box Plot of BMI by Gender**"
   ]
  },
  {
   "cell_type": "code",
   "execution_count": null,
   "metadata": {},
   "outputs": [],
   "source": [
    "plt.figure(figsize=(10,6))\n",
    "sns.boxplot(x='Gender', y='BMI', data=ob_df)\n",
    "plt.title('BMI by Gender')\n",
    "plt.xlabel('Gender')\n",
    "plt.ylabel('BMI')\n",
    "plt.show()"
   ]
  },
  {
   "cell_type": "markdown",
   "metadata": {},
   "source": [
    "### 4. **Correlation Heatmap**"
   ]
  },
  {
   "cell_type": "code",
   "execution_count": null,
   "metadata": {},
   "outputs": [],
   "source": [
    "# Create a binary obesity column (obese or not obese).\n",
    "obese_categories = ['Obesity_Type_I', 'Obesity_Type_II', 'Obesity_Type_III']\n",
    "ob_df_binary = ob_df.copy()\n",
    "ob_df_binary[\"Obese\"] = ob_df[\"NObeyesdad\"].apply(lambda v: \"Obese\" if v in obese_categories else \"Non-Obese\")"
   ]
  },
  {
   "cell_type": "code",
   "execution_count": null,
   "metadata": {},
   "outputs": [],
   "source": [
    "# Convert categorical variables to numeric using Label Encoding\n",
    "label_encoders = {}\n",
    "ob_df_view = ob_df_binary[:]\n",
    "for column in ob_df_view.select_dtypes(include=['object']).columns:\n",
    "    label_encoders[column] = LabelEncoder()\n",
    "    ob_df_view[column] = label_encoders[column].fit_transform(ob_df_view[column])\n",
    "\n",
    "ob_df_view"
   ]
  },
  {
   "cell_type": "code",
   "execution_count": null,
   "metadata": {},
   "outputs": [],
   "source": [
    "# Calculate the correlation matrix\n",
    "correlation_matrix = ob_df_view.corr()\n",
    "\n",
    "# Plot the correlation heatmap\n",
    "plt.figure(figsize=(18, 8))\n",
    "sns.heatmap(correlation_matrix, annot=True, cmap='coolwarm')\n",
    "plt.title('Correlation Heatmap')\n",
    "plt.show()"
   ]
  },
  {
   "cell_type": "markdown",
   "metadata": {},
   "source": [
    "### 5. **Distribution of Obesity Levels**"
   ]
  },
  {
   "cell_type": "code",
   "execution_count": null,
   "metadata": {},
   "outputs": [],
   "source": [
    "plt.figure(figsize=(12, 6))\n",
    "sns.histplot(x='NObeyesdad', hue='NObeyesdad', data=ob_df, palette='viridis', legend=False)\n",
    "plt.title('Count of Each Obesity Level')\n",
    "plt.xlabel('Obesity Level')\n",
    "plt.ylabel('Count')\n",
    "plt.xticks(rotation=45)\n",
    "plt.show()"
   ]
  },
  {
   "cell_type": "markdown",
   "metadata": {},
   "source": [
    "### Distribution of Binary Obesity\n",
    "Since we are only interested in whether an instance is obese or not, we check the distribution of the obesity levels after collapsing them into a binary category."
   ]
  },
  {
   "cell_type": "code",
   "execution_count": null,
   "metadata": {},
   "outputs": [],
   "source": [
    "plt.figure()\n",
    "sns.histplot(x='Obese', hue='Obese', data=ob_df_binary, palette='viridis', legend=False)\n",
    "plt.title('Count of Non-Obese and Obese Instances')\n",
    "plt.xlabel('Obesity')\n",
    "plt.ylabel('Count')\n",
    "plt.xticks(rotation=45)\n",
    "plt.show()"
   ]
  },
  {
   "cell_type": "markdown",
   "metadata": {},
   "source": [
    "### 6. **Pairplot of Selected Features**\n",
    "Chosen features are `age`, `height`, `weight`, and `BMI`."
   ]
  },
  {
   "cell_type": "code",
   "execution_count": null,
   "metadata": {},
   "outputs": [],
   "source": [
    "selected_features = ['Age', 'Height', 'Weight',  'BMI']\n",
    "sns.pairplot(data=ob_df, x_vars=selected_features, y_vars=selected_features, hue=\"NObeyesdad\")\n",
    "plt.show()"
   ]
  },
  {
   "cell_type": "markdown",
   "metadata": {},
   "source": [
    "### 7. **Distribution of Family History of Overweightness**"
   ]
  },
  {
   "cell_type": "code",
   "execution_count": null,
   "metadata": {},
   "outputs": [],
   "source": [
    "plt.figure(figsize=(8, 6))\n",
    "sns.countplot(x='family_history_with_overweight', hue='family_history_with_overweight', data=ob_df, palette='viridis', dodge=False, legend=False)\n",
    "plt.title('Family History with Overweight')\n",
    "plt.xlabel('Family History')\n",
    "plt.ylabel('Count')\n",
    "plt.show()"
   ]
  },
  {
   "cell_type": "markdown",
   "metadata": {},
   "source": [
    "### 8. **Count Plot for Frequent Consumption of High Caloric Food (FAVC)**"
   ]
  },
  {
   "cell_type": "code",
   "execution_count": null,
   "metadata": {},
   "outputs": [],
   "source": [
    "plt.figure(figsize=(8, 6))\n",
    "sns.countplot(x='FAVC', data=ob_df)\n",
    "plt.title('Count Plot of Frequent Comsumption of High Caloric Food (FAVC)')\n",
    "plt.xlabel('Frequent Consumption of High Caloric Food')\n",
    "plt.ylabel('Count')\n",
    "plt.show()"
   ]
  }
 ],
 "metadata": {
  "language_info": {
   "name": "python"
  }
 },
 "nbformat": 4,
 "nbformat_minor": 4
}
