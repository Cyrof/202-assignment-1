{
 "cells": [
  {
   "cell_type": "markdown",
   "id": "2f201f51-5ade-40c6-8bf4-9b027b05eefb",
   "metadata": {},
   "source": [
    "# Training"
   ]
  },
  {
   "cell_type": "markdown",
   "id": "335d12cd-96b4-454a-a84b-110a03ef24d5",
   "metadata": {},
   "source": [
    "## Library Imports"
   ]
  },
  {
   "cell_type": "code",
   "execution_count": null,
   "id": "5bf386b0-e55b-4063-afbd-ea1a8a09da27",
   "metadata": {},
   "outputs": [],
   "source": [
    "import os\n",
    "import pickle\n",
    "\n",
    "import pandas as pd\n",
    "from sklearn.linear_model import LogisticRegression\n",
    "from sklearn.ensemble import RandomForestClassifier\n",
    "from sklearn.tree import DecisionTreeClassifier\n",
    "from sklearn.svm import SVC"
   ]
  },
  {
   "cell_type": "markdown",
   "id": "50415afc-3157-4e09-b8dd-947e0ecd7760",
   "metadata": {},
   "source": [
    "## Importing the Train Set"
   ]
  },
  {
   "cell_type": "code",
   "execution_count": null,
   "id": "03a7e824-7893-4890-841e-3e62029e9517",
   "metadata": {},
   "outputs": [],
   "source": [
    "datasets_folder = f\"{os.path.abspath(os.path.join(os.getcwd(), os.pardir))}/datasets\""
   ]
  },
  {
   "cell_type": "code",
   "execution_count": null,
   "id": "d9f0f5f1-256e-490c-ac3e-199f29d83ab1",
   "metadata": {},
   "outputs": [],
   "source": [
    "X_train = pd.read_csv(os.path.join(datasets_folder, \"obesity_X_train.csv\"), index_col=0)\n",
    "X_train"
   ]
  },
  {
   "cell_type": "code",
   "execution_count": null,
   "id": "15624c55-fb4e-4232-9890-8b421aed2315",
   "metadata": {},
   "outputs": [],
   "source": [
    "y_train = pd.read_csv(os.path.join(datasets_folder, \"obesity_y_train.csv\"), index_col=0)[\"NObeyesdad\"]\n",
    "y_train"
   ]
  },
  {
   "cell_type": "markdown",
   "id": "d1b10505-b187-4ba2-80a0-809230caa673",
   "metadata": {},
   "source": [
    "## Training SVM and Logistic Regression Models\n",
    "We train SVM and logistic regression models using the tuned hyperparameters from nested cross-validation."
   ]
  },
  {
   "cell_type": "code",
   "execution_count": null,
   "id": "55fe240a-bfad-49f5-b683-e298ce1877a4",
   "metadata": {},
   "outputs": [],
   "source": [
    "RAND_STATE=0"
   ]
  },
  {
   "cell_type": "code",
   "execution_count": null,
   "id": "6b444ba3-3ab8-4128-8481-4abe436392a5",
   "metadata": {},
   "outputs": [],
   "source": [
    "svm = SVC(C=100, kernel='linear', probability=True, random_state=RAND_STATE)\n",
    "svm.fit(X_train, y_train)\n",
    "svm"
   ]
  },
  {
   "cell_type": "code",
   "execution_count": null,
   "id": "57010614-36f6-451a-8055-3d667c9c83e8",
   "metadata": {},
   "outputs": [],
   "source": [
    "log_reg = LogisticRegression(C=100, max_iter=1000, random_state=RAND_STATE)\n",
    "log_reg.fit(X_train, y_train.astype(\"int\"))\n",
    "log_reg"
   ]
  },
  {
   "cell_type": "markdown",
   "id": "18ea5544-3d8a-4e33-920e-81b58a449540",
   "metadata": {},
   "source": [
    "## Saving the Trained Models\n",
    "We define a function for saving a given model by pickling to a specified path:"
   ]
  },
  {
   "cell_type": "code",
   "execution_count": null,
   "id": "2c8a7779",
   "metadata": {},
   "outputs": [],
   "source": [
    "def save_model(model, filename):\n",
    "    file_path = f\"{os.path.abspath(os.path.join(os.getcwd(), os.pardir))}/models/{filename}\"\n",
    "    with open(file_path, 'wb') as file: \n",
    "        pickle.dump(model, file)\n",
    "    file.close()\n",
    "    print(f\"Model saved to {file_path}\")"
   ]
  },
  {
   "cell_type": "markdown",
   "id": "47e01826-9bdf-44b7-a22d-574072b8c383",
   "metadata": {},
   "source": [
    "Finally, we save the trained models:"
   ]
  },
  {
   "cell_type": "code",
   "execution_count": null,
   "id": "0b0dc027-82a2-4222-97df-110834651449",
   "metadata": {},
   "outputs": [],
   "source": [
    "save_model(svm, 'svm_model.pkl')\n",
    "save_model(log_reg, 'log_reg_model.pkl')"
   ]
  }
 ],
 "metadata": {
  "language_info": {
   "name": "python"
  }
 },
 "nbformat": 4,
 "nbformat_minor": 5
}
