{
 "cells": [
  {
   "cell_type": "markdown",
   "id": "2f201f51-5ade-40c6-8bf4-9b027b05eefb",
   "metadata": {},
   "source": [
    "# Training"
   ]
  },
  {
   "cell_type": "markdown",
   "id": "335d12cd-96b4-454a-a84b-110a03ef24d5",
   "metadata": {},
   "source": [
    "## Library Imports"
   ]
  },
  {
   "cell_type": "code",
   "execution_count": null,
   "id": "5bf386b0-e55b-4063-afbd-ea1a8a09da27",
   "metadata": {},
   "outputs": [],
   "source": [
    "import os\n",
    "import pickle\n",
    "\n",
    "import pandas as pd\n",
    "from sklearn.ensemble import RandomForestClassifier"
   ]
  },
  {
   "cell_type": "markdown",
   "id": "50415afc-3157-4e09-b8dd-947e0ecd7760",
   "metadata": {},
   "source": [
    "## Importing the Train and Test Sets"
   ]
  },
  {
   "cell_type": "code",
   "execution_count": null,
   "id": "03a7e824-7893-4890-841e-3e62029e9517",
   "metadata": {},
   "outputs": [],
   "source": [
    "datasets_folder = f\"{os.path.abspath(os.path.join(os.getcwd(), os.pardir))}/datasets\""
   ]
  },
  {
   "cell_type": "code",
   "execution_count": null,
   "id": "d9f0f5f1-256e-490c-ac3e-199f29d83ab1",
   "metadata": {},
   "outputs": [],
   "source": [
    "X_train = pd.read_csv(os.path.join(datasets_folder, \"obesity_X_train.csv\"), index_col=0)\n",
    "X_train"
   ]
  },
  {
   "cell_type": "code",
   "execution_count": null,
   "id": "15624c55-fb4e-4232-9890-8b421aed2315",
   "metadata": {},
   "outputs": [],
   "source": [
    "y_train = pd.read_csv(os.path.join(datasets_folder, \"obesity_y_train.csv\"), index_col=0)[\"Obese\"]\n",
    "y_train"
   ]
  },
  {
   "cell_type": "code",
   "execution_count": null,
   "id": "7fb2f478-d5b0-483e-ae3c-91f265af0815",
   "metadata": {},
   "outputs": [],
   "source": [
    "X_test = pd.read_csv(os.path.join(datasets_folder, \"obesity_X_test.csv\"), index_col=0)\n",
    "X_test"
   ]
  },
  {
   "cell_type": "code",
   "execution_count": null,
   "id": "7fd9517a-78f9-4208-bc6a-03906890a569",
   "metadata": {},
   "outputs": [],
   "source": [
    "y_test = pd.read_csv(os.path.join(datasets_folder, \"obesity_y_test.csv\"), index_col=0)[\"Obese\"]\n",
    "y_test"
   ]
  },
  {
   "cell_type": "markdown",
   "id": "24425f69-a582-4b65-bd3c-3e9fc2773600",
   "metadata": {},
   "source": [
    "### Dropping the `Height` and `Weight` Columns\n",
    "As with the cross-validation, we make a variant of `X_train` without the `Height` and `Weight` columns. We do the same for `X_test`. We will train two different models for comparison."
   ]
  },
  {
   "cell_type": "code",
   "execution_count": null,
   "id": "40e9f1fc-e76d-4995-b490-3925da9473b4",
   "metadata": {},
   "outputs": [],
   "source": [
    "X_train_no_hw = X_train.drop([\"Height\", \"Weight\"], axis=1)\n",
    "X_train_no_hw"
   ]
  },
  {
   "cell_type": "code",
   "execution_count": null,
   "id": "a25d1c99-3aa8-4268-a28e-82765863910e",
   "metadata": {},
   "outputs": [],
   "source": [
    "X_test_no_hw = X_test.drop([\"Height\", \"Weight\"], axis=1)\n",
    "X_test_no_hw"
   ]
  },
  {
   "cell_type": "markdown",
   "id": "d1b10505-b187-4ba2-80a0-809230caa673",
   "metadata": {},
   "source": [
    "## Training Random Forest Classifiers\n",
    "The cross-validation results showed that the random forest, decision tree and SVM classifiers achieved high accuracies for both `X_train` and `X_train_no_hw`. The accuracies for the random forest were closer to each other, so we will train two random forest classifiers with the tuned hyperparameters."
   ]
  },
  {
   "cell_type": "code",
   "execution_count": null,
   "id": "55fe240a-bfad-49f5-b683-e298ce1877a4",
   "metadata": {},
   "outputs": [],
   "source": [
    "RAND_STATE=0"
   ]
  },
  {
   "cell_type": "code",
   "execution_count": null,
   "id": "6b444ba3-3ab8-4128-8481-4abe436392a5",
   "metadata": {},
   "outputs": [],
   "source": [
    "rand_forest = RandomForestClassifier(max_depth=None, n_estimators=300, random_state=RAND_STATE)\n",
    "rand_forest.fit(X_train, y_train)"
   ]
  },
  {
   "cell_type": "code",
   "execution_count": null,
   "id": "57010614-36f6-451a-8055-3d667c9c83e8",
   "metadata": {},
   "outputs": [],
   "source": [
    "rand_forest_no_weight = RandomForestClassifier(max_depth=None, n_estimators=200, random_state=RAND_STATE)\n",
    "rand_forest_no_weight.fit(X_train_no_hw, y_train)"
   ]
  },
  {
   "cell_type": "markdown",
   "id": "35d5a5e4-9c4d-4b4d-8702-3dc4ab4b1fbf",
   "metadata": {},
   "source": [
    "## Scores"
   ]
  },
  {
   "cell_type": "code",
   "execution_count": null,
   "id": "0b9d5898-37f9-4e73-98a8-f216f2012d7e",
   "metadata": {},
   "outputs": [],
   "source": [
    "rand_forest.score(X_test, y_test)"
   ]
  },
  {
   "cell_type": "code",
   "execution_count": null,
   "id": "c4ada9dc-dbd9-493a-8193-b93b5e813b01",
   "metadata": {},
   "outputs": [],
   "source": [
    "rand_forest_no_weight.score(X_test_no_hw, y_test)"
   ]
  },
  {
   "cell_type": "markdown",
   "id": "18ea5544-3d8a-4e33-920e-81b58a449540",
   "metadata": {},
   "source": [
    "## Saving the Trained Models\n",
    "We define a function for saving a given model by pickling to a specified path:"
   ]
  },
  {
   "cell_type": "code",
   "execution_count": null,
   "id": "2c8a7779",
   "metadata": {},
   "outputs": [],
   "source": [
    "def save_model(model, filename):\n",
    "    file_path = f\"{os.path.abspath(os.path.join(os.getcwd(), os.pardir))}/models/{filename}\"\n",
    "    with open(file_path, 'wb') as file: \n",
    "        pickle.dump(model, file)\n",
    "    file.close()\n",
    "    print(f\"Model saved to {file_path}\")"
   ]
  },
  {
   "cell_type": "markdown",
   "id": "47e01826-9bdf-44b7-a22d-574072b8c383",
   "metadata": {},
   "source": [
    "Finally, we save the trained models:"
   ]
  },
  {
   "cell_type": "code",
   "execution_count": null,
   "id": "0b0dc027-82a2-4222-97df-110834651449",
   "metadata": {},
   "outputs": [],
   "source": [
    "save_model(rand_forest, 'rand_forest.pkl')\n",
    "save_model(rand_forest_no_weight, 'rand_forest_no_weight.pkl')"
   ]
  }
 ],
 "metadata": {
  "language_info": {
   "name": "python"
  }
 },
 "nbformat": 4,
 "nbformat_minor": 5
}
