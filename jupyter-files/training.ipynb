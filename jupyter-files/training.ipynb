{
 "cells": [
  {
   "cell_type": "markdown",
   "id": "2f201f51-5ade-40c6-8bf4-9b027b05eefb",
   "metadata": {},
   "source": [
    "# Training"
   ]
  },
  {
   "cell_type": "markdown",
   "id": "335d12cd-96b4-454a-a84b-110a03ef24d5",
   "metadata": {},
   "source": [
    "## Library Imports"
   ]
  },
  {
   "cell_type": "code",
   "execution_count": null,
   "id": "5bf386b0-e55b-4063-afbd-ea1a8a09da27",
   "metadata": {},
   "outputs": [],
   "source": [
    "import os\n",
    "import pickle\n",
    "\n",
    "import pandas as pd\n",
    "from sklearn.ensemble import RandomForestClassifier"
   ]
  },
  {
   "cell_type": "markdown",
   "id": "50415afc-3157-4e09-b8dd-947e0ecd7760",
   "metadata": {},
   "source": [
    "## Importing the Train Set"
   ]
  },
  {
   "cell_type": "code",
   "execution_count": null,
   "id": "03a7e824-7893-4890-841e-3e62029e9517",
   "metadata": {},
   "outputs": [],
   "source": [
    "datasets_folder = f\"{os.path.abspath(os.path.join(os.getcwd(), os.pardir))}/datasets\""
   ]
  },
  {
   "cell_type": "code",
   "execution_count": null,
   "id": "d9f0f5f1-256e-490c-ac3e-199f29d83ab1",
   "metadata": {},
   "outputs": [],
   "source": [
    "X_train = pd.read_csv(os.path.join(datasets_folder, \"obesity_X_train.csv\"), index_col=0)\n",
    "X_train"
   ]
  },
  {
   "cell_type": "code",
   "execution_count": null,
   "id": "15624c55-fb4e-4232-9890-8b421aed2315",
   "metadata": {},
   "outputs": [],
   "source": [
    "y_train = pd.read_csv(os.path.join(datasets_folder, \"obesity_y_train.csv\"), index_col=0)[\"NObeyesdad\"]\n",
    "y_train"
   ]
  },
  {
   "cell_type": "markdown",
   "id": "24425f69-a582-4b65-bd3c-3e9fc2773600",
   "metadata": {},
   "source": [
    "### Dropping the `Weight` Column\n",
    "As with the cross-validation, we drop make a variant of `X_train` without the `Weight` column:"
   ]
  },
  {
   "cell_type": "code",
   "execution_count": null,
   "id": "40e9f1fc-e76d-4995-b490-3925da9473b4",
   "metadata": {},
   "outputs": [],
   "source": [
    "X_train_no_weight = X_train.drop(\"Weight\", axis=1)\n",
    "X_train_no_weight"
   ]
  },
  {
   "cell_type": "markdown",
   "id": "d1b10505-b187-4ba2-80a0-809230caa673",
   "metadata": {},
   "source": [
    "## Training Random Forest\n",
    "The cross-validation results showed that random forest and SVM achieved accuracies above 80% for both `X_train` and `X_train_no_weight`. The accuracies for random forest were closer to each other, so we will train two random forest classifiers with the tuned hyperparameters."
   ]
  },
  {
   "cell_type": "code",
   "execution_count": null,
   "id": "55fe240a-bfad-49f5-b683-e298ce1877a4",
   "metadata": {},
   "outputs": [],
   "source": [
    "RAND_STATE=0"
   ]
  },
  {
   "cell_type": "code",
   "execution_count": null,
   "id": "6b444ba3-3ab8-4128-8481-4abe436392a5",
   "metadata": {},
   "outputs": [],
   "source": [
    "rand_forest = RandomForestClassifier(max_depth=None, n_estimators=200, random_state=RAND_STATE)\n",
    "rand_forest.fit(X_train, y_train)"
   ]
  },
  {
   "cell_type": "code",
   "execution_count": null,
   "id": "57010614-36f6-451a-8055-3d667c9c83e8",
   "metadata": {},
   "outputs": [],
   "source": [
    "rand_forest_no_weight = RandomForestClassifier(max_depth=None, n_estimators=400, random_state=RAND_STATE)\n",
    "rand_forest_no_weight.fit(X_train_no_weight, y_train)"
   ]
  },
  {
   "cell_type": "markdown",
   "id": "18ea5544-3d8a-4e33-920e-81b58a449540",
   "metadata": {},
   "source": [
    "## Saving the Trained Models\n",
    "We define a function for saving a given model by pickling to a specified path:"
   ]
  },
  {
   "cell_type": "code",
   "execution_count": null,
   "id": "2c8a7779",
   "metadata": {},
   "outputs": [],
   "source": [
    "def save_model(model, filename):\n",
    "    file_path = f\"{os.path.abspath(os.path.join(os.getcwd(), os.pardir))}/models/{filename}\"\n",
    "    with open(file_path, 'wb') as file: \n",
    "        pickle.dump(model, file)\n",
    "    file.close()\n",
    "    print(f\"Model saved to {file_path}\")"
   ]
  },
  {
   "cell_type": "markdown",
   "id": "47e01826-9bdf-44b7-a22d-574072b8c383",
   "metadata": {},
   "source": [
    "Finally, we save the trained models:"
   ]
  },
  {
   "cell_type": "code",
   "execution_count": null,
   "id": "0b0dc027-82a2-4222-97df-110834651449",
   "metadata": {},
   "outputs": [],
   "source": [
    "save_model(rand_forest, 'rand_forest.pkl')\n",
    "save_model(rand_forest_no_weight, 'rand_forest_no_weight.pkl')"
   ]
  }
 ],
 "metadata": {
  "language_info": {
   "name": "python"
  }
 },
 "nbformat": 4,
 "nbformat_minor": 5
}
