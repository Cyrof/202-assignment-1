{
 "cells": [
  {
   "cell_type": "markdown",
   "id": "2f201f51-5ade-40c6-8bf4-9b027b05eefb",
   "metadata": {},
   "source": [
    "# Data Training"
   ]
  },
  {
   "cell_type": "markdown",
   "id": "335d12cd-96b4-454a-a84b-110a03ef24d5",
   "metadata": {},
   "source": [
    "## Library Imports"
   ]
  },
  {
   "cell_type": "code",
   "execution_count": null,
   "id": "5bf386b0-e55b-4063-afbd-ea1a8a09da27",
   "metadata": {},
   "outputs": [],
   "source": [
    "import os\n",
    "\n",
    "import pandas as pd\n",
    "from sklearn import preprocessing\n",
    "from sklearn.model_selection import train_test_split\n",
    "import numpy as np"
   ]
  },
  {
   "cell_type": "markdown",
   "id": "50415afc-3157-4e09-b8dd-947e0ecd7760",
   "metadata": {},
   "source": [
    "## Importing the Dataset"
   ]
  },
  {
   "cell_type": "code",
   "execution_count": null,
   "id": "03a7e824-7893-4890-841e-3e62029e9517",
   "metadata": {},
   "outputs": [],
   "source": [
    "csv_path = f\"{os.getcwd()}/datasets/obesityData.csv\"\n",
    "\n",
    "ob_df = pd.read_csv(csv_path) # ob_df --> obesity dataframe"
   ]
  },
  {
   "cell_type": "markdown",
   "id": "89e6a5b8-57c2-42e7-8df0-0974f0235906",
   "metadata": {},
   "source": [
    "## Preprocessing"
   ]
  },
  {
   "cell_type": "markdown",
   "id": "c3a312d4-80be-4626-afbe-864e4344d413",
   "metadata": {},
   "source": [
    "### Splitting the Dataset"
   ]
  },
  {
   "cell_type": "code",
   "execution_count": null,
   "id": "423e3b5e-9dfa-4696-bd4d-5d8a1cfc8887",
   "metadata": {},
   "outputs": [],
   "source": [
    "RAND_STATE = 0\n",
    "\n",
    "X = ob_df.drop(columns=[\"NObeyesdad\"])\n",
    "y = ob_df[\"NObeyesdad\"]\n",
    "\n",
    "# Split the data\n",
    "X_train, X_test, y_train, y_test = train_test_split(X, y, test_size=0.3, train_size=0.7, stratify=y, random_state=RAND_STATE)"
   ]
  },
  {
   "cell_type": "code",
   "execution_count": null,
   "id": "818226ed-11d9-433a-ac55-e6736c7c82a5",
   "metadata": {},
   "outputs": [],
   "source": [
    "X_train"
   ]
  },
  {
   "cell_type": "code",
   "execution_count": null,
   "id": "f9268f75-35a0-4d05-9e04-f93f3d593266",
   "metadata": {},
   "outputs": [],
   "source": [
    "X_test"
   ]
  },
  {
   "cell_type": "code",
   "execution_count": null,
   "id": "f1834968-a6e7-49db-9048-2cc97c5478f3",
   "metadata": {},
   "outputs": [],
   "source": [
    "y_train"
   ]
  },
  {
   "cell_type": "code",
   "execution_count": null,
   "id": "2e9775ac-8cb4-4258-b906-233d75ef3dfb",
   "metadata": {},
   "outputs": [],
   "source": [
    "y_test"
   ]
  }
 ],
 "metadata": {
  "language_info": {
   "name": "python"
  }
 },
 "nbformat": 4,
 "nbformat_minor": 5
}
